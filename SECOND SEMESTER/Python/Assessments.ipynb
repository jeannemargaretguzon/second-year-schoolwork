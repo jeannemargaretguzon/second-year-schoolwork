{
 "cells": [
  {
   "cell_type": "markdown",
   "id": "a2dea467",
   "metadata": {},
   "source": [
    "# Instructional Material Assessments and Activities"
   ]
  },
  {
   "cell_type": "markdown",
   "id": "75c49d90",
   "metadata": {},
   "source": [
    "## Lesson 2"
   ]
  },
  {
   "cell_type": "code",
   "execution_count": 1,
   "metadata": {},
   "outputs": [
    {
     "name": "stdout",
     "output_type": "stream",
     "text": [
      "Twinkle, twinkle, little star,\n",
      "\tHow I wonder what you are!\n",
      "\t\tUp above the world so high,\n",
      "\t\tLike a Diamond in the sky.\n",
      "Twinkle, twinkle, little star,\n",
      "\tHow I wonder what you are\n"
     ]
    }
   ],
   "source": [
    "# Write a Python Program to Print the following string in a specific format (see the output) \n",
    "print(\"Twinkle, twinkle, little star,\")\n",
    "print(\"\\tHow I wonder what you are!\")\n",
    "print(\"\\t\\tUp above the world so high,\")\n",
    "print(\"\\t\\tLike a Diamond in the sky.\")\n",
    "print(\"Twinkle, twinkle, little star,\")\n",
    "print(\"\\tHow I wonder what you are\")"
   ]
  },
  {
   "cell_type": "code",
   "execution_count": 10,
   "id": "2c986e90",
   "metadata": {},
   "outputs": [
    {
     "name": "stdout",
     "output_type": "stream",
     "text": [
      "Current date and time: \n",
      " 2022-05-18 23:15:47\n"
     ]
    }
   ],
   "source": [
    "# Write a Python Program to display the current date and time\n",
    "\n",
    "from datetime import datetime\n",
    "\n",
    "now = datetime.now()\n",
    "\n",
    "today = now.strftime(\"%Y-%m-%d %H:%M:%S\")\n",
    "print(\"Current date and time: \\n\", today)"
   ]
  },
  {
   "cell_type": "code",
   "execution_count": 16,
   "id": "a9b4e41e",
   "metadata": {},
   "outputs": [
    {
     "name": "stdout",
     "output_type": "stream",
     "text": [
      "Area =  3.7994000000000008\n"
     ]
    }
   ],
   "source": [
    "# Write a Python program which accepts the radius of a circle from the user and compute the area\n",
    "\n",
    "r = float(input(\"r = \"))\n",
    "\n",
    "Area = (r**2) *3.14\n",
    "\n",
    "print (\"Area = \", Area)"
   ]
  },
  {
   "cell_type": "code",
   "execution_count": 17,
   "id": "f656e751",
   "metadata": {},
   "outputs": [
    {
     "name": "stdout",
     "output_type": "stream",
     "text": [
      "guzon jeanne\n"
     ]
    }
   ],
   "source": [
    "# Write a Python program which accepts the user's first and last name \n",
    "# and print them in reverse order with a space between them\n",
    "\n",
    "firstname = input(\"First Name: \")\n",
    "lastname = input(\"Last Name: \")\n",
    "\n",
    "print(lastname + \" \" + firstname)"
   ]
  },
  {
   "cell_type": "code",
   "execution_count": 19,
   "id": "db822a25",
   "metadata": {},
   "outputs": [
    {
     "name": "stdout",
     "output_type": "stream",
     "text": [
      "The number is even\n"
     ]
    }
   ],
   "source": [
    "# Write a Python program to find whether a given number (accept from the user)\n",
    "# is even or odd, print out an approrpiate message to the user\n",
    "\n",
    "x = int(input(\"Give a number: \"))\n",
    "if x%2 == 0:\n",
    "    print(\"The number is even\")\n",
    "else:\n",
    "    print(\"The number is odd\")"
   ]
  },
  {
   "cell_type": "code",
   "execution_count": 20,
   "id": "0a1e5460",
   "metadata": {},
   "outputs": [
    {
     "name": "stdout",
     "output_type": "stream",
     "text": [
      "Area of the Triangele:  66.0\n"
     ]
    }
   ],
   "source": [
    "# Write a python program that will accept the base and height of a triangele\n",
    "# and compute the area\n",
    "\n",
    "base = float(input(\"Base of the Triangle: \"))\n",
    "height = float(input(\"Height of the Triangle: \"))\n",
    "\n",
    "area = 1/2 * base * height\n",
    "\n",
    "print(\"Area of the Triangele: \", area)"
   ]
  },
  {
   "cell_type": "markdown",
   "id": "1a291329",
   "metadata": {},
   "source": [
    "## Lesson 3"
   ]
  },
  {
   "cell_type": "code",
   "execution_count": 1,
   "id": "41ea52ec",
   "metadata": {},
   "outputs": [
    {
     "name": "stdout",
     "output_type": "stream",
     "text": [
      "[1, 2, 3, 4, 5, 6, 7, 8, 9, 10]\n"
     ]
    }
   ],
   "source": [
    "# Print numbers 1 to 10 on the screen using a list to store the numbers\n",
    "\n",
    "list = [1, 2, 3, 4, 5, 6, 7, 8, 9, 10]\n",
    "print(list)"
   ]
  },
  {
   "cell_type": "code",
   "execution_count": 4,
   "id": "b1654bad",
   "metadata": {},
   "outputs": [
    {
     "name": "stdout",
     "output_type": "stream",
     "text": [
      "('orange', 'apple', 'strawberry', 'grapes', 'banana')\n"
     ]
    }
   ],
   "source": [
    "# Create a tuple with five objects and showing on the screen\n",
    "\n",
    "list = (\"orange\", \"apple\", \"strawberry\", \"grapes\", \"banana\")\n",
    "\n",
    "print(list)"
   ]
  },
  {
   "cell_type": "code",
   "execution_count": 6,
   "id": "4a5ee46f",
   "metadata": {},
   "outputs": [
    {
     "name": "stdout",
     "output_type": "stream",
     "text": [
      "{(3, 'orange'), (5, 'bannana'), (1, 'orange'), (2, 'apple'), (4, 'grape')}\n"
     ]
    }
   ],
   "source": [
    "# Create a dictionary with five pairs and showing on the screen\n",
    "\n",
    "dictionary = {(1, \"orange\"), (2, \"apple\"), (3, \"orange\"),\n",
    "              (4, \"grape\"), (5, \"bannana\") \n",
    "} \n",
    "\n",
    "print(dictionary)"
   ]
  },
  {
   "cell_type": "code",
   "execution_count": 3,
   "id": "b9acecb7",
   "metadata": {},
   "outputs": [
    {
     "name": "stdout",
     "output_type": "stream",
     "text": [
      "1 -1 times\n",
      "2 -2 times\n",
      "3 -1 times\n",
      "4 -3 times\n",
      "5 -1 times\n"
     ]
    }
   ],
   "source": [
    "# Create a tuple with the following elements: 1, 2, 2, 3, 4, 4, 4, 5\n",
    "# then use the tuple object's count function to check ho many times the number for appears in the tupple\n",
    "\n",
    "tuple = (1, 2, 2, 3, 4, 4, 4, 5)\n",
    "\n",
    "print(\"1 -\" + str(tuple.count(1)) + \" times\")\n",
    "print(\"2 -\" + str(tuple.count(2)) + \" times\")\n",
    "print(\"3 -\" + str(tuple.count(3)) + \" times\")\n",
    "print(\"4 -\" + str(tuple.count(4)) + \" times\")\n",
    "print(\"5 -\" + str(tuple.count(5)) + \" times\")"
   ]
  }
 ],
 "metadata": {
  "kernelspec": {
   "display_name": "Python 3.10.5 64-bit",
   "language": "python",
   "name": "python3"
  },
  "language_info": {
   "codemirror_mode": {
    "name": "ipython",
    "version": 3
   },
   "file_extension": ".py",
   "mimetype": "text/x-python",
   "name": "python",
   "nbconvert_exporter": "python",
   "pygments_lexer": "ipython3",
   "version": "3.10.5"
  },
  "vscode": {
   "interpreter": {
    "hash": "cc482770a45ba2d9aad59c0ddc9803a4696fdece20719876da40dcb6d67f0ecf"
   }
  }
 },
 "nbformat": 4,
 "nbformat_minor": 5
}
